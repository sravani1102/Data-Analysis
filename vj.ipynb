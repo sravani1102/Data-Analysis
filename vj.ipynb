{
 "cells": [
  {
   "cell_type": "code",
   "execution_count": 65,
   "id": "552ae394",
   "metadata": {},
   "outputs": [
    {
     "name": "stdout",
     "output_type": "stream",
     "text": [
      "[2 4 6]\n"
     ]
    }
   ],
   "source": [
    "a=np.array([1,2,3,4,5,6])\n",
    "print(a[1:8:2])"
   ]
  },
  {
   "cell_type": "code",
   "execution_count": 66,
   "id": "efe2fe8e",
   "metadata": {},
   "outputs": [
    {
     "name": "stdout",
     "output_type": "stream",
     "text": [
      "[4 9]\n"
     ]
    }
   ],
   "source": [
    "b=np.array([[1,2,3,4,5],[6,7,8,9,0]])\n",
    "print(b[0:2,3])"
   ]
  },
  {
   "cell_type": "code",
   "execution_count": 67,
   "id": "eee23cc3",
   "metadata": {},
   "outputs": [
    {
     "data": {
      "text/plain": [
       "dtype('<U7')"
      ]
     },
     "execution_count": 67,
     "metadata": {},
     "output_type": "execute_result"
    }
   ],
   "source": [
    "c=np.array(['sravani','vindhya','kalluri','dfjh'])\n",
    "c.dtype"
   ]
  },
  {
   "cell_type": "code",
   "execution_count": 68,
   "id": "9381ab2b",
   "metadata": {},
   "outputs": [
    {
     "name": "stdout",
     "output_type": "stream",
     "text": [
      "0     True\n",
      "1    False\n",
      "2    False\n",
      "3     True\n",
      "dtype: bool\n",
      "   self  other\n",
      "1   2.0    3.0\n",
      "2   1.0    4.0\n"
     ]
    }
   ],
   "source": [
    "import pandas as pd\n",
    "df=pd.Series([1,2,1,4])\n",
    "df1=pd.Series([1,3,4,4])\n",
    "print(df==df1)\n",
    "print(df.compare(df1))"
   ]
  },
  {
   "cell_type": "code",
   "execution_count": 69,
   "id": "956fe09d",
   "metadata": {},
   "outputs": [
    {
     "name": "stdout",
     "output_type": "stream",
     "text": [
      "<class 'list'>\n",
      "[74, 'sravani', 3571, 9.42]\n"
     ]
    }
   ],
   "source": [
    "df=pd.Series([74,'sravani',3571,9.42])\n",
    "l=df.tolist()\n",
    "print(type(l))\n",
    "print(l)"
   ]
  },
  {
   "cell_type": "code",
   "execution_count": 70,
   "id": "77501d20",
   "metadata": {},
   "outputs": [
    {
     "name": "stdout",
     "output_type": "stream",
     "text": [
      "<class 'numpy.ndarray'>\n",
      "[100 200 'pyhton' 300.12 400]\n"
     ]
    }
   ],
   "source": [
    "df=pd.Series([100,200,'pyhton',300.12,400])\n",
    "n=np.array(df)\n",
    "print(type(n))\n",
    "print(n)"
   ]
  },
  {
   "cell_type": "code",
   "execution_count": 73,
   "id": "fefbc3f3",
   "metadata": {},
   "outputs": [
    {
     "name": "stdout",
     "output_type": "stream",
     "text": [
      "Create Series with Lists\n",
      "0    1\n",
      "1    2\n",
      "2    3\n",
      "3    4\n",
      "4    5\n",
      "dtype: int64\n",
      "Create Series with Numpy\n",
      "0    ramu\n",
      "1    sita\n",
      "2    raju\n",
      "dtype: object\n",
      "Create Series with Dict\n",
      "s.no        1\n",
      "name     Ramu\n",
      "class       5\n",
      "dtype: object\n"
     ]
    }
   ],
   "source": [
    "#list\n",
    "df=pd.Series([1,2,3,4,5])\n",
    "print(\"Create Series with Lists\")\n",
    "print(df)\n",
    "#numpy\n",
    "a=np.array(['ramu','sita','raju'])\n",
    "df=pd.Series(a)\n",
    "print(\"Create Series with Numpy\")\n",
    "print(df)\n",
    "#dict\n",
    "d={'s.no':1,'name':'Ramu','class':5}\n",
    "df=pd.Series(d)\n",
    "print(\"Create Series with Dict\")\n",
    "print(df)"
   ]
  },
  {
   "cell_type": "code",
   "execution_count": 77,
   "id": "ba066b21",
   "metadata": {},
   "outputs": [
    {
     "name": "stdout",
     "output_type": "stream",
     "text": [
      "   s.no    name\n",
      "0     1    ramu\n",
      "1     2    sita\n",
      "2     3    raju\n",
      "3     4  suresh\n"
     ]
    }
   ],
   "source": [
    "d={'s.no':pd.Series([1,2,3,4]),\"name\":pd.Series(['ramu','sita','raju','suresh'])}\n",
    "df=pd.DataFrame(d)\n",
    "print(df)"
   ]
  },
  {
   "cell_type": "code",
   "execution_count": 89,
   "id": "fe598fe4",
   "metadata": {},
   "outputs": [
    {
     "name": "stdout",
     "output_type": "stream",
     "text": [
      "2    6\n",
      "1    4\n",
      "3    2\n",
      "4    1\n",
      "6    1\n",
      "5    1\n",
      "dtype: int64\n"
     ]
    }
   ],
   "source": [
    "df=pd.Series([1,2,3,1,2,4,2,1,2,3,6,2,5,1,2])\n",
    "f=df.value_counts()\n",
    "print(f)"
   ]
  },
  {
   "cell_type": "code",
   "execution_count": 92,
   "id": "578c91ed",
   "metadata": {},
   "outputs": [
    {
     "name": "stdout",
     "output_type": "stream",
     "text": [
      "   0  1  2\n",
      "0  1  2  3\n",
      "1  4  5  6\n",
      "2  7  8  9\n"
     ]
    }
   ],
   "source": [
    "a=np.array([1,2,3,4,5,6,7,8,9])\n",
    "df=pd.DataFrame(a.reshape(3,3))\n",
    "print(df)"
   ]
  },
  {
   "cell_type": "code",
   "execution_count": 102,
   "id": "add6d3d2",
   "metadata": {},
   "outputs": [
    {
     "name": "stdout",
     "output_type": "stream",
     "text": [
      "0      Raju\n",
      "1    Ramesh\n",
      "2      Sita\n",
      "3    Geetha\n",
      "4    Suresh\n",
      "Name: Name, dtype: object\n"
     ]
    }
   ],
   "source": [
    "df=pd.read_csv('Book1.csv')['Name']\n",
    "print(df)"
   ]
  },
  {
   "cell_type": "code",
   "execution_count": 106,
   "id": "6c12d037",
   "metadata": {},
   "outputs": [
    {
     "name": "stdout",
     "output_type": "stream",
     "text": [
      "     Name  rank\n",
      "0    Raju   200\n",
      "1  Ramesh  4532\n",
      "2    Sita   432\n",
      "3  Geetha   100\n",
      "4  Suresh  3321\n"
     ]
    }
   ],
   "source": [
    "df=pd.read_csv('Book1.csv',usecols=['Name','rank'])\n",
    "print(df)"
   ]
  },
  {
   "cell_type": "code",
   "execution_count": 110,
   "id": "eb9fb608",
   "metadata": {},
   "outputs": [
    {
     "name": "stdout",
     "output_type": "stream",
     "text": [
      "   rank    Name  s.no\n",
      "0   200    Raju     1\n",
      "1  4532  Ramesh     2\n",
      "2   432    Sita     3\n",
      "3   100  Geetha     4\n",
      "4  3321  Suresh     5\n"
     ]
    }
   ],
   "source": [
    "df=pd.read_csv('Book1.csv')\n",
    "f=df.loc[:,['rank','Name','s.no']]\n",
    "print(f)"
   ]
  },
  {
   "cell_type": "code",
   "execution_count": 113,
   "id": "a977203b",
   "metadata": {},
   "outputs": [
    {
     "data": {
      "text/html": [
       "<div>\n",
       "<style scoped>\n",
       "    .dataframe tbody tr th:only-of-type {\n",
       "        vertical-align: middle;\n",
       "    }\n",
       "\n",
       "    .dataframe tbody tr th {\n",
       "        vertical-align: top;\n",
       "    }\n",
       "\n",
       "    .dataframe thead th {\n",
       "        text-align: right;\n",
       "    }\n",
       "</style>\n",
       "<table border=\"1\" class=\"dataframe\">\n",
       "  <thead>\n",
       "    <tr style=\"text-align: right;\">\n",
       "      <th></th>\n",
       "      <th>s.no</th>\n",
       "      <th>Name</th>\n",
       "      <th>rank</th>\n",
       "    </tr>\n",
       "  </thead>\n",
       "  <tbody>\n",
       "    <tr>\n",
       "      <th>4</th>\n",
       "      <td>5</td>\n",
       "      <td>Suresh</td>\n",
       "      <td>3321</td>\n",
       "    </tr>\n",
       "    <tr>\n",
       "      <th>3</th>\n",
       "      <td>4</td>\n",
       "      <td>Geetha</td>\n",
       "      <td>100</td>\n",
       "    </tr>\n",
       "    <tr>\n",
       "      <th>2</th>\n",
       "      <td>3</td>\n",
       "      <td>Sita</td>\n",
       "      <td>432</td>\n",
       "    </tr>\n",
       "    <tr>\n",
       "      <th>1</th>\n",
       "      <td>2</td>\n",
       "      <td>Ramesh</td>\n",
       "      <td>4532</td>\n",
       "    </tr>\n",
       "    <tr>\n",
       "      <th>0</th>\n",
       "      <td>1</td>\n",
       "      <td>Raju</td>\n",
       "      <td>200</td>\n",
       "    </tr>\n",
       "  </tbody>\n",
       "</table>\n",
       "</div>"
      ],
      "text/plain": [
       "   s.no    Name  rank\n",
       "4     5  Suresh  3321\n",
       "3     4  Geetha   100\n",
       "2     3    Sita   432\n",
       "1     2  Ramesh  4532\n",
       "0     1    Raju   200"
      ]
     },
     "execution_count": 113,
     "metadata": {},
     "output_type": "execute_result"
    }
   ],
   "source": [
    "df[::-1]"
   ]
  },
  {
   "cell_type": "code",
   "execution_count": null,
   "id": "9336ac5e",
   "metadata": {},
   "outputs": [],
   "source": []
  }
 ],
 "metadata": {
  "kernelspec": {
   "display_name": "Python 3 (ipykernel)",
   "language": "python",
   "name": "python3"
  },
  "language_info": {
   "codemirror_mode": {
    "name": "ipython",
    "version": 3
   },
   "file_extension": ".py",
   "mimetype": "text/x-python",
   "name": "python",
   "nbconvert_exporter": "python",
   "pygments_lexer": "ipython3",
   "version": "3.9.7"
  }
 },
 "nbformat": 4,
 "nbformat_minor": 5
}
