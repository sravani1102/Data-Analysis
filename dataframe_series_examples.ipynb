{
 "cells": [
  {
   "cell_type": "code",
   "execution_count": 1,
   "id": "825e1009",
   "metadata": {},
   "outputs": [
    {
     "name": "stdout",
     "output_type": "stream",
     "text": [
      "0    10\n",
      "1    11\n",
      "2    12\n",
      "3    13\n",
      "4    14\n",
      "5    15\n",
      "dtype: int64\n"
     ]
    }
   ],
   "source": [
    "#1.Write a Pandas program to create and display a one-dimensional \n",
    "#array-like object containing an array of data using Pandas module.\n",
    "import pandas as pd\n",
    "a=pd.Series([10,11,12,13,14,15])\n",
    "print(a)"
   ]
  },
  {
   "cell_type": "code",
   "execution_count": 5,
   "id": "182160eb",
   "metadata": {},
   "outputs": [
    {
     "name": "stdout",
     "output_type": "stream",
     "text": [
      "[10, 11, 12, 13, 14, 15]\n"
     ]
    },
    {
     "data": {
      "text/plain": [
       "list"
      ]
     },
     "execution_count": 5,
     "metadata": {},
     "output_type": "execute_result"
    }
   ],
   "source": [
    "#2.Write a pandas program to convert a pandas module series to python list.\n",
    "a=pd.Series([10,11,12,13,14,15])\n",
    "l=pd.Series.to_list(a)\n",
    "print(l)\n",
    "type(a)\n",
    "type(l)"
   ]
  },
  {
   "cell_type": "code",
   "execution_count": 9,
   "id": "b0e97d88",
   "metadata": {},
   "outputs": [
    {
     "name": "stdout",
     "output_type": "stream",
     "text": [
      "Add :\n",
      " 0    12\n",
      "1    14\n",
      "2    16\n",
      "3    18\n",
      "4    20\n",
      "dtype: int64\n",
      "Sub :\n",
      " 0   -10\n",
      "1   -10\n",
      "2   -10\n",
      "3   -10\n",
      "4   -10\n",
      "dtype: int64\n",
      "Mul :\n",
      " 0    11\n",
      "1    24\n",
      "2    39\n",
      "3    56\n",
      "4    75\n",
      "dtype: int64\n",
      "div :\n",
      " 0    0.090909\n",
      "1    0.166667\n",
      "2    0.230769\n",
      "3    0.285714\n",
      "4    0.333333\n",
      "dtype: float64\n"
     ]
    }
   ],
   "source": [
    "#3.Write a pandas program to add, subtract, multiple and divide two pandas series\n",
    "a=pd.Series([1,2,3,4,5])\n",
    "b=pd.Series([11,12,13,14,15])\n",
    "print(\"Add :\\n\",a+b)\n",
    "print(\"Sub :\\n\",a-b)\n",
    "print(\"Mul :\\n\",a*b)\n",
    "print(\"div :\\n\",a/b)"
   ]
  },
  {
   "cell_type": "code",
   "execution_count": 18,
   "id": "81c2c2d0",
   "metadata": {},
   "outputs": [
    {
     "name": "stdout",
     "output_type": "stream",
     "text": [
      "Lower case :\n",
      " 0    sravani\n",
      "1    kalluri\n",
      "2    vindhya\n",
      "dtype: object\n",
      "\n",
      "Upper case :\n",
      " 0    SRAVANI\n",
      "1    KALLURI\n",
      "2    VINDHYA\n",
      "dtype: object\n",
      "\n",
      "Length :\n",
      " 0    7\n",
      "1    7\n",
      "2    7\n",
      "dtype: int64\n"
     ]
    }
   ],
   "source": [
    "#4.Write a Pandas program to convert all the string values to upper, lower cases \n",
    "#in a given pandas series. Also find the length of the string values.\n",
    "a=pd.Series(['Sravani',\"KALLURI\",\"vinDHya\",])\n",
    "print(\"Lower case :\\n\",a.str.lower())\n",
    "print(\"\\nUpper case :\\n\",a.str.upper())\n",
    "print(\"\\nLength :\\n\",a.str.len())"
   ]
  },
  {
   "cell_type": "code",
   "execution_count": 24,
   "id": "fc68ca9d",
   "metadata": {},
   "outputs": [
    {
     "data": {
      "text/plain": [
       "0        abc\n",
       "1        xyz\n",
       "2    abc xyz\n",
       "dtype: object"
      ]
     },
     "execution_count": 24,
     "metadata": {},
     "output_type": "execute_result"
    }
   ],
   "source": [
    "#5.Write a Pandas program to remove whitespaces, left sided whitespaces and \n",
    "#right sided whitespaces of the string values of a given pandas series.\n",
    "a=pd.Series([\"abc\",\" xyz\",\" abc xyz \"])\n",
    "a.str.strip()"
   ]
  },
  {
   "cell_type": "code",
   "execution_count": 71,
   "id": "a0cd32a1",
   "metadata": {},
   "outputs": [
    {
     "name": "stdout",
     "output_type": "stream",
     "text": [
      "           stu_name        father  Phone_no\n",
      "Red_no                                     \n",
      "Y20CS009     Vijaya          Ramu     99999\n",
      "Y20CS019   Praveena          Raju     88888\n",
      "Y20CS074    Sravani       Krishna     77777\n",
      "Y20CS134    Madhavi      Srinivas     66666\n",
      "Y20CS178  Chandrika       Raghava     55555\n",
      "Y20CS193   Srilekha  Nageswararao     44444\n"
     ]
    }
   ],
   "source": [
    "#Write a Pandas program to create and display a DataFrame consist of student \n",
    "#name, father name , mobile number as columns and register number as index.\n",
    "'''d={\"stu_name \":[\"Vijaya\",\"Praveena\",\"Sravani\",\"Madhavi\",\"Chandrika\",\"Srilekha\"],\n",
    "  \"father \":[\"Ramu\",\"Raju\",\"Krishna\",\"Srinivas\",\"Raghava\",\"Nageswararao\"],\n",
    "  \"Phone_no \":[99999,88888,77777,66666,55555,44444]}\n",
    "i=[\"Y20CS009\",\"Y20CS019\",\"Y20CS074\",\"Y20CS134\",\"Y20CS178\",\"Y20CS193\"]\n",
    "a=pd.DataFrame(d,index=i)\n",
    "a'''\n",
    "d={\"stu_name\":[\"Vijaya\",\"Praveena\",\"Sravani\",\"Madhavi\",\"Chandrika\",\"Srilekha\"],\n",
    "  \"father\":[\"Ramu\",\"Raju\",\"Krishna\",\"Srinivas\",\"Raghava\",\"Nageswararao\"],\n",
    "  \"Phone_no\":[99999,88888,77777,66666,55555,44444],\n",
    "  \"Red_no\":[\"Y20CS009\",\"Y20CS019\",\"Y20CS074\",\"Y20CS134\",\"Y20CS178\",\"Y20CS193\"],}\n",
    "a=pd.DataFrame(d)\n",
    "a=a.set_index('Red_no')\n",
    "print(a)"
   ]
  },
  {
   "cell_type": "code",
   "execution_count": 72,
   "id": "ff1d90b0",
   "metadata": {},
   "outputs": [
    {
     "name": "stdout",
     "output_type": "stream",
     "text": [
      "['stu_name' 'father' 'Phone_no']\n"
     ]
    }
   ],
   "source": [
    "#7.Write a Pandas program to get list from DataFrame column headers.\n",
    "print(a.columns.values)"
   ]
  },
  {
   "cell_type": "code",
   "execution_count": 73,
   "id": "3d3480b8",
   "metadata": {},
   "outputs": [
    {
     "name": "stdout",
     "output_type": "stream",
     "text": [
      "           stu_name        father  Phone_no\n",
      "Red_no                                     \n",
      "Y20CS009     Vijaya          Ramu     99999\n",
      "Y20CS019   Praveena          Raju     88888\n",
      "Y20CS074    Vindhya       Krishna     77777\n",
      "Y20CS134    Madhavi      Srinivas     66666\n",
      "Y20CS178  Chandrika       Raghava     55555\n",
      "Y20CS193   Srilekha  Nageswararao     44444\n"
     ]
    }
   ],
   "source": [
    "#8.Write a Pandas program to change the name of the student\n",
    "a['stu_name']=a['stu_name'].replace(\"Sravani\",\"Vindhya\")\n",
    "print(a)"
   ]
  },
  {
   "cell_type": "code",
   "execution_count": 75,
   "id": "a98614e0",
   "metadata": {},
   "outputs": [
    {
     "data": {
      "text/html": [
       "<div>\n",
       "<style scoped>\n",
       "    .dataframe tbody tr th:only-of-type {\n",
       "        vertical-align: middle;\n",
       "    }\n",
       "\n",
       "    .dataframe tbody tr th {\n",
       "        vertical-align: top;\n",
       "    }\n",
       "\n",
       "    .dataframe thead th {\n",
       "        text-align: right;\n",
       "    }\n",
       "</style>\n",
       "<table border=\"1\" class=\"dataframe\">\n",
       "  <thead>\n",
       "    <tr style=\"text-align: right;\">\n",
       "      <th></th>\n",
       "      <th>stu_name</th>\n",
       "      <th>father</th>\n",
       "      <th>Phone_no</th>\n",
       "      <th>Grade</th>\n",
       "    </tr>\n",
       "    <tr>\n",
       "      <th>Red_no</th>\n",
       "      <th></th>\n",
       "      <th></th>\n",
       "      <th></th>\n",
       "      <th></th>\n",
       "    </tr>\n",
       "  </thead>\n",
       "  <tbody>\n",
       "    <tr>\n",
       "      <th>Y20CS009</th>\n",
       "      <td>Vijaya</td>\n",
       "      <td>Ramu</td>\n",
       "      <td>99999</td>\n",
       "      <td>A</td>\n",
       "    </tr>\n",
       "    <tr>\n",
       "      <th>Y20CS019</th>\n",
       "      <td>Praveena</td>\n",
       "      <td>Raju</td>\n",
       "      <td>88888</td>\n",
       "      <td>A+</td>\n",
       "    </tr>\n",
       "    <tr>\n",
       "      <th>Y20CS074</th>\n",
       "      <td>Vindhya</td>\n",
       "      <td>Krishna</td>\n",
       "      <td>77777</td>\n",
       "      <td>A+</td>\n",
       "    </tr>\n",
       "    <tr>\n",
       "      <th>Y20CS134</th>\n",
       "      <td>Madhavi</td>\n",
       "      <td>Srinivas</td>\n",
       "      <td>66666</td>\n",
       "      <td>B</td>\n",
       "    </tr>\n",
       "    <tr>\n",
       "      <th>Y20CS178</th>\n",
       "      <td>Chandrika</td>\n",
       "      <td>Raghava</td>\n",
       "      <td>55555</td>\n",
       "      <td>A</td>\n",
       "    </tr>\n",
       "    <tr>\n",
       "      <th>Y20CS193</th>\n",
       "      <td>Srilekha</td>\n",
       "      <td>Nageswararao</td>\n",
       "      <td>44444</td>\n",
       "      <td>A</td>\n",
       "    </tr>\n",
       "  </tbody>\n",
       "</table>\n",
       "</div>"
      ],
      "text/plain": [
       "           stu_name        father  Phone_no Grade\n",
       "Red_no                                           \n",
       "Y20CS009     Vijaya          Ramu     99999     A\n",
       "Y20CS019   Praveena          Raju     88888    A+\n",
       "Y20CS074    Vindhya       Krishna     77777    A+\n",
       "Y20CS134    Madhavi      Srinivas     66666     B\n",
       "Y20CS178  Chandrika       Raghava     55555     A\n",
       "Y20CS193   Srilekha  Nageswararao     44444     A"
      ]
     },
     "execution_count": 75,
     "metadata": {},
     "output_type": "execute_result"
    }
   ],
   "source": [
    "#9.Write a Pandas program to insert a new column “grade” in existing DataFrame.\n",
    "a['Grade']=['A','A+','A+','B','A','A']\n",
    "a"
   ]
  },
  {
   "cell_type": "code",
   "execution_count": 77,
   "id": "f22d38a7",
   "metadata": {},
   "outputs": [
    {
     "data": {
      "text/html": [
       "<div>\n",
       "<style scoped>\n",
       "    .dataframe tbody tr th:only-of-type {\n",
       "        vertical-align: middle;\n",
       "    }\n",
       "\n",
       "    .dataframe tbody tr th {\n",
       "        vertical-align: top;\n",
       "    }\n",
       "\n",
       "    .dataframe thead th {\n",
       "        text-align: right;\n",
       "    }\n",
       "</style>\n",
       "<table border=\"1\" class=\"dataframe\">\n",
       "  <thead>\n",
       "    <tr style=\"text-align: right;\">\n",
       "      <th></th>\n",
       "      <th>stu_name</th>\n",
       "      <th>Red_no</th>\n",
       "    </tr>\n",
       "  </thead>\n",
       "  <tbody>\n",
       "    <tr>\n",
       "      <th>1</th>\n",
       "      <td>Vijaya</td>\n",
       "      <td>Y20CS009</td>\n",
       "    </tr>\n",
       "    <tr>\n",
       "      <th>2</th>\n",
       "      <td>Praveena</td>\n",
       "      <td>Y20CS019</td>\n",
       "    </tr>\n",
       "    <tr>\n",
       "      <th>3</th>\n",
       "      <td>Sravani</td>\n",
       "      <td>Y20CS074</td>\n",
       "    </tr>\n",
       "    <tr>\n",
       "      <th>4</th>\n",
       "      <td>Madhavi</td>\n",
       "      <td>Y20CS134</td>\n",
       "    </tr>\n",
       "    <tr>\n",
       "      <th>5</th>\n",
       "      <td>Chandrika</td>\n",
       "      <td>Y20CS178</td>\n",
       "    </tr>\n",
       "    <tr>\n",
       "      <th>6</th>\n",
       "      <td>Srilekha</td>\n",
       "      <td>Y20CS193</td>\n",
       "    </tr>\n",
       "  </tbody>\n",
       "</table>\n",
       "</div>"
      ],
      "text/plain": [
       "    stu_name    Red_no\n",
       "1     Vijaya  Y20CS009\n",
       "2   Praveena  Y20CS019\n",
       "3    Sravani  Y20CS074\n",
       "4    Madhavi  Y20CS134\n",
       "5  Chandrika  Y20CS178\n",
       "6   Srilekha  Y20CS193"
      ]
     },
     "execution_count": 77,
     "metadata": {},
     "output_type": "execute_result"
    }
   ],
   "source": [
    "#10.Write a pandas program to create and display a dataframe from a specified dictionary data which has the index labels.\n",
    "d={\"stu_name\":[\"Vijaya\",\"Praveena\",\"Sravani\",\"Madhavi\",\"Chandrika\",\"Srilekha\"],\n",
    "  \"Red_no\":[\"Y20CS009\",\"Y20CS019\",\"Y20CS074\",\"Y20CS134\",\"Y20CS178\",\"Y20CS193\"],}\n",
    "a=pd.DataFrame(d,index=[1,2,3,4,5,6])\n",
    "a"
   ]
  }
 ],
 "metadata": {
  "kernelspec": {
   "display_name": "Python 3 (ipykernel)",
   "language": "python",
   "name": "python3"
  },
  "language_info": {
   "codemirror_mode": {
    "name": "ipython",
    "version": 3
   },
   "file_extension": ".py",
   "mimetype": "text/x-python",
   "name": "python",
   "nbconvert_exporter": "python",
   "pygments_lexer": "ipython3",
   "version": "3.9.7"
  }
 },
 "nbformat": 4,
 "nbformat_minor": 5
}
