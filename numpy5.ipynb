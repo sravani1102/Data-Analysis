{
 "cells": [
  {
   "cell_type": "code",
   "execution_count": 11,
   "id": "def3261d",
   "metadata": {},
   "outputs": [
    {
     "name": "stdout",
     "output_type": "stream",
     "text": [
      "[1. 1. 1.]\n",
      "1\n",
      "[[1.]\n",
      " [1.]]\n",
      "2\n",
      "[[[1.]\n",
      "  [1.]]\n",
      "\n",
      " [[1.]\n",
      "  [1.]]\n",
      "\n",
      " [[1.]\n",
      "  [1.]]]\n",
      "3\n"
     ]
    }
   ],
   "source": [
    "#1\n",
    "import numpy as np\n",
    "o=np.ones(3)\n",
    "print(o)\n",
    "print(o.ndim)\n",
    "t=np.ones((2,1))\n",
    "print(t)\n",
    "print(t.ndim)\n",
    "three=np.ones((3,2,1))\n",
    "print(three)\n",
    "print(three.ndim)"
   ]
  },
  {
   "cell_type": "code",
   "execution_count": 13,
   "id": "56e67431",
   "metadata": {},
   "outputs": [
    {
     "name": "stdout",
     "output_type": "stream",
     "text": [
      "(9,)\n",
      "(3, 3)\n"
     ]
    }
   ],
   "source": [
    "#2\n",
    "a=np.arange(9)\n",
    "print(a.shape)\n",
    "a=a.reshape((3,3))\n",
    "print(a.shape)"
   ]
  },
  {
   "cell_type": "code",
   "execution_count": 14,
   "id": "d2d7314b",
   "metadata": {},
   "outputs": [
    {
     "name": "stdout",
     "output_type": "stream",
     "text": [
      "<class 'list'>\n",
      "<class 'numpy.ndarray'>\n"
     ]
    }
   ],
   "source": [
    "#3\n",
    "l=list(range(1,10))\n",
    "print(type(l))\n",
    "a=np.array(l)\n",
    "print(type(a))"
   ]
  },
  {
   "cell_type": "code",
   "execution_count": 15,
   "id": "dfb89772",
   "metadata": {},
   "outputs": [
    {
     "name": "stdout",
     "output_type": "stream",
     "text": [
      "[0 1 2 3 4 5 6 7 8 9]\n"
     ]
    }
   ],
   "source": [
    "#4\n",
    "a=np.arange(10)\n",
    "print(a)"
   ]
  },
  {
   "cell_type": "code",
   "execution_count": 24,
   "id": "6369b666",
   "metadata": {},
   "outputs": [
    {
     "data": {
      "text/plain": [
       "array([4. , 4.5, 5. , 5.5, 6. ])"
      ]
     },
     "execution_count": 24,
     "metadata": {},
     "output_type": "execute_result"
    }
   ],
   "source": [
    "#5\n",
    "np.linspace(4,6,5)"
   ]
  },
  {
   "cell_type": "code",
   "execution_count": 98,
   "id": "de34ea6c",
   "metadata": {},
   "outputs": [
    {
     "name": "stdout",
     "output_type": "stream",
     "text": [
      "[ 100.          177.827941    316.22776602  562.34132519 1000.        ]\n",
      "[4.         4.75682846 5.65685425 6.72717132 8.        ]\n"
     ]
    }
   ],
   "source": [
    "#6\n",
    "print(np.logspace(2,3,5))\n",
    "print(np.logspace(2,3,5,base=2.0))"
   ]
  },
  {
   "cell_type": "code",
   "execution_count": 28,
   "id": "4f735f3e",
   "metadata": {},
   "outputs": [
    {
     "data": {
      "text/plain": [
       "array([[11, 11, 11],\n",
       "       [11, 11, 11]])"
      ]
     },
     "execution_count": 28,
     "metadata": {},
     "output_type": "execute_result"
    }
   ],
   "source": [
    "#7\n",
    "np.full((2,3),11)"
   ]
  },
  {
   "cell_type": "code",
   "execution_count": 29,
   "id": "1746fe51",
   "metadata": {},
   "outputs": [
    {
     "data": {
      "text/plain": [
       "array([[1., 0., 0.],\n",
       "       [0., 1., 0.],\n",
       "       [0., 0., 1.]])"
      ]
     },
     "execution_count": 29,
     "metadata": {},
     "output_type": "execute_result"
    }
   ],
   "source": [
    "#8\n",
    "np.eye(3)"
   ]
  },
  {
   "cell_type": "code",
   "execution_count": 32,
   "id": "c55f25a2",
   "metadata": {},
   "outputs": [
    {
     "data": {
      "text/plain": [
       "array([[0.91988703, 0.80397996],\n",
       "       [0.66926644, 0.19586735],\n",
       "       [0.85756534, 0.24817791]])"
      ]
     },
     "execution_count": 32,
     "metadata": {},
     "output_type": "execute_result"
    }
   ],
   "source": [
    "#9\n",
    "np.random.rand(3,2)"
   ]
  },
  {
   "cell_type": "code",
   "execution_count": 34,
   "id": "5ddb0fed",
   "metadata": {},
   "outputs": [
    {
     "data": {
      "text/plain": [
       "array([[ 1.00414661,  0.37579112],\n",
       "       [-0.06042236,  0.29481372],\n",
       "       [-0.55279812, -1.78677095]])"
      ]
     },
     "execution_count": 34,
     "metadata": {},
     "output_type": "execute_result"
    }
   ],
   "source": [
    "np.random.randn(3,2)"
   ]
  },
  {
   "cell_type": "code",
   "execution_count": 38,
   "id": "cf109811",
   "metadata": {},
   "outputs": [
    {
     "data": {
      "text/plain": [
       "6"
      ]
     },
     "execution_count": 38,
     "metadata": {},
     "output_type": "execute_result"
    }
   ],
   "source": [
    "np.random.randint(0,10)"
   ]
  },
  {
   "cell_type": "code",
   "execution_count": 43,
   "id": "44d5094e",
   "metadata": {},
   "outputs": [
    {
     "name": "stdout",
     "output_type": "stream",
     "text": [
      "Identity matrix :\n",
      "[[1. 0. 0.]\n",
      " [0. 1. 0.]\n",
      " [0. 0. 1.]]\n",
      "Diagonal matrix :\n",
      "[1. 1. 1.]\n"
     ]
    }
   ],
   "source": [
    "#10\n",
    "i=np.identity(3)\n",
    "print(\"Identity matrix :\")\n",
    "print(i)\n",
    "d=np.diag(i)\n",
    "print(\"Diagonal matrix :\")\n",
    "print(d)"
   ]
  },
  {
   "cell_type": "code",
   "execution_count": 48,
   "id": "e2b6c016",
   "metadata": {},
   "outputs": [
    {
     "name": "stdout",
     "output_type": "stream",
     "text": [
      "shape : (2, 2, 3)\n"
     ]
    },
    {
     "data": {
      "text/plain": [
       "9"
      ]
     },
     "execution_count": 48,
     "metadata": {},
     "output_type": "execute_result"
    }
   ],
   "source": [
    "#11\n",
    "a=np.array([[[1,2,3],[4,5,6]],[[7,8,9],[0,1,2]]])\n",
    "print(\"shape :\",a.shape)\n",
    "a[1][0][2]"
   ]
  },
  {
   "cell_type": "code",
   "execution_count": 55,
   "id": "273ab173",
   "metadata": {},
   "outputs": [
    {
     "name": "stdout",
     "output_type": "stream",
     "text": [
      "[0 1 2 3 4 5 6 7 8 9]\n",
      "[3 4 5 6]\n",
      "[ 0  1  2 24 24 24 24  7  8  9]\n",
      "[24 24 24 24]\n"
     ]
    }
   ],
   "source": [
    "#12\n",
    "a=np.arange(10)\n",
    "print(a)\n",
    "s1=a[3:7]\n",
    "print(s1)\n",
    "s1[:]=24\n",
    "print(a)\n",
    "print(s1)"
   ]
  },
  {
   "cell_type": "code",
   "execution_count": 62,
   "id": "5e09d668",
   "metadata": {},
   "outputs": [
    {
     "name": "stdout",
     "output_type": "stream",
     "text": [
      "[[ 1  2  3]\n",
      " [ 4 12  9]\n",
      " [10  0  1]]\n",
      "[[ 2]\n",
      " [12]\n",
      " [ 0]]\n",
      "[[1]\n",
      " [4]]\n"
     ]
    }
   ],
   "source": [
    "#13\n",
    "a=np.array([[1,2,3],[4,12,9],[10,0,1]])\n",
    "print(a)\n",
    "s=a[:,1:2]\n",
    "print(s)\n",
    "s1=a[0:2,0:1]\n",
    "print(s1)"
   ]
  },
  {
   "cell_type": "code",
   "execution_count": 94,
   "id": "2a1ed4c6",
   "metadata": {},
   "outputs": [
    {
     "name": "stdout",
     "output_type": "stream",
     "text": [
      "[[ 1  2]\n",
      " [ 3  5]\n",
      " [ 7 56]]\n",
      "Transpose :\n",
      "[[ 1  3  7]\n",
      " [ 2  5 56]]\n",
      "Flip left-right :\n",
      "[[ 2  1]\n",
      " [ 5  3]\n",
      " [56  7]]\n",
      "Flip up-down :\n",
      "[[ 7 56]\n",
      " [ 3  5]\n",
      " [ 1  2]]\n",
      "Rotate 90 :\n",
      "[[ 2  5 56]\n",
      " [ 1  3  7]]\n"
     ]
    }
   ],
   "source": [
    "#14\n",
    "a=np.array([[1,2],[3,5],[7,56]])\n",
    "print(a)\n",
    "at=a.T\n",
    "print(\"Transpose :\")\n",
    "print(at)\n",
    "flr=np.fliplr(a)\n",
    "print(\"Flip left-right :\")\n",
    "print(flr)\n",
    "fud=np.flipud(a)\n",
    "print(\"Flip up-down :\")\n",
    "print(fud)\n",
    "r=np.rot90(a)\n",
    "print(\"Rotate 90 :\")\n",
    "print(r)"
   ]
  },
  {
   "cell_type": "code",
   "execution_count": 97,
   "id": "a4286efd",
   "metadata": {},
   "outputs": [
    {
     "name": "stdout",
     "output_type": "stream",
     "text": [
      "Vertical stack :\n",
      "[[ 1  2  3]\n",
      " [ 4  5  6]\n",
      " [10 20 30]]\n",
      "Horizontal stack :\n",
      "[[ 1  2  3 10]\n",
      " [ 4  5  6 20]]\n"
     ]
    }
   ],
   "source": [
    "#15\n",
    "a=np.array([[1,2,3],[4,5,6]])\n",
    "v=np.vstack((a,np.array([10,20,30])))\n",
    "print(\"Vertical stack :\")\n",
    "print(v)\n",
    "h=np.hstack((a,np.array([[10],[20]])))\n",
    "print(\"Horizontal stack :\")\n",
    "print(h)"
   ]
  },
  {
   "cell_type": "code",
   "execution_count": null,
   "id": "fe65587e",
   "metadata": {},
   "outputs": [],
   "source": []
  }
 ],
 "metadata": {
  "kernelspec": {
   "display_name": "Python 3 (ipykernel)",
   "language": "python",
   "name": "python3"
  },
  "language_info": {
   "codemirror_mode": {
    "name": "ipython",
    "version": 3
   },
   "file_extension": ".py",
   "mimetype": "text/x-python",
   "name": "python",
   "nbconvert_exporter": "python",
   "pygments_lexer": "ipython3",
   "version": "3.9.7"
  }
 },
 "nbformat": 4,
 "nbformat_minor": 5
}
